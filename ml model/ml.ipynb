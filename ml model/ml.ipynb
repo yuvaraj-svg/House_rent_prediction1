{
 "cells": [
  {
   "cell_type": "code",
   "execution_count": 1,
   "id": "1b8951cb",
   "metadata": {},
   "outputs": [],
   "source": [
    "import joblib\n",
    "import pandas as pd\n",
    "\n",
    "# Load the saved model\n",
    "model = joblib.load('house_prediction.pkl')  "
   ]
  },
  {
   "cell_type": "code",
   "execution_count": 2,
   "id": "54b66b24",
   "metadata": {},
   "outputs": [
    {
     "name": "stdout",
     "output_type": "stream",
     "text": [
      "Predicted Rent: 27433.24\n"
     ]
    }
   ],
   "source": [
    "# Example input data for prediction (replace with your actual input data)\n",
    "# Make sure the order of columns and data types match the training data (X_train)\n",
    "# You can get the list of columns from X_train.columns\n",
    "new_data = {\n",
    "    'BHK': [2],\n",
    "    'Size': [1000],\n",
    "    'Bathroom': [2],\n",
    "    'Current Floor': [5.0],\n",
    "    'Total Floors': [10.0],\n",
    "    'Area Type_Carpet Area': [False],\n",
    "    'Area Type_Super Area': [True],\n",
    "    'City_Chennai': [False],\n",
    "    'City_Delhi': [False],\n",
    "    'City_Hyderabad': [False],\n",
    "    'City_Kolkata': [True],\n",
    "    'City_Mumbai': [False],\n",
    "    'Furnishing Status_Semi-Furnished': [True],\n",
    "    'Furnishing Status_Unfurnished': [False],\n",
    "    'Tenant Preferred_Bachelors/Family': [True],\n",
    "    'Tenant Preferred_Family': [False],\n",
    "    'Point of Contact_Contact Builder': [False],\n",
    "    'Point of Contact_Contact Owner': [True]\n",
    "}\n",
    "\n",
    "new_df = pd.DataFrame(new_data)\n",
    "\n",
    "# Ensure the columns are in the same order as the training data\n",
    "# new_df = new_df[X_train.columns]\n",
    "\n",
    "# Predict the rent for the new data\n",
    "predicted_rent = model.predict(new_df)\n",
    "\n",
    "print(f\"Predicted Rent: {predicted_rent[0]:.2f}\")"
   ]
  },
  {
   "cell_type": "code",
   "execution_count": null,
   "id": "55085e6a",
   "metadata": {},
   "outputs": [],
   "source": []
  }
 ],
 "metadata": {
  "kernelspec": {
   "display_name": "base",
   "language": "python",
   "name": "python3"
  },
  "language_info": {
   "codemirror_mode": {
    "name": "ipython",
    "version": 3
   },
   "file_extension": ".py",
   "mimetype": "text/x-python",
   "name": "python",
   "nbconvert_exporter": "python",
   "pygments_lexer": "ipython3",
   "version": "3.13.5"
  }
 },
 "nbformat": 4,
 "nbformat_minor": 5
}
